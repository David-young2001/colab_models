{
  "nbformat": 4,
  "nbformat_minor": 0,
  "metadata": {
    "colab": {
      "name": "图片动起来的 demo",
      "provenance": [],
      "collapsed_sections": [],
      "mount_file_id": "1YrYnS_gLHkwKv9chvmFVq7RRRBFuNE7n",
      "authorship_tag": "ABX9TyN59tzRWGkei3xBlwsyxLOY",
      "include_colab_link": true
    },
    "kernelspec": {
      "name": "python3",
      "display_name": "Python 3"
    },
    "language_info": {
      "name": "python"
    },
    "accelerator": "GPU"
  },
  "cells": [
    {
      "cell_type": "markdown",
      "metadata": {
        "id": "view-in-github",
        "colab_type": "text"
      },
      "source": [
        "<a href=\"https://colab.research.google.com/github/alg-bug-engineer/colab_models/blob/main/image_song.ipynb\" target=\"_parent\"><img src=\"https://colab.research.google.com/assets/colab-badge.svg\" alt=\"Open In Colab\"/></a>"
      ]
    },
    {
      "cell_type": "code",
      "source": [
        "# 前提是需要转存 google 云盘中的 image_song 共享文件，获取模型和代码，切换 GPU 模式\n",
        "from google.colab import drive\n",
        "# drive.mount(\"/content/drive\")  # 挂载云盘到自己的目录下\n",
        "!cp drive/MyDrive/image_song/*.py .  # 拷贝到当前路径下\n",
        "!cp -r drive/MyDrive/image_song/sync_batchnorm/ .\n",
        "!cp -r drive/MyDrive/image_song/modules/ .\n",
        "!cp -r drive/MyDrive/image_song/ .\n",
        "# 安装必要的东西1\n",
        "!pip install imageio-ffmpeg scikit-image torch==1.0.0 torchvision==0.2.1\n",
        "!pip install matplotlib"
      ],
      "metadata": {
        "id": "92L1HjUcyYpI"
      },
      "execution_count": 5,
      "outputs": []
    },
    {
      "cell_type": "code",
      "source": [
        "from demo import load_checkpoints, make_animation\n",
        "from skimage import img_as_ubyte\n",
        "\n",
        "import imageio\n",
        "import numpy as np\n",
        "import matplotlib.pyplot as plt\n",
        "import matplotlib.animation as animation\n",
        "from skimage.transform import resize\n",
        "from IPython.display import HTML\n",
        "import warnings\n",
        "warnings.filterwarnings(\"ignore\")\n",
        "\n",
        "#放自己喜欢的照片\n",
        "source_image = imageio.imread('image_song/data/3.png')\n",
        "\n",
        "#自己要使用的视频\n",
        "driving_video = imageio.mimread('image_song/data/demo.mp4')\n",
        "\n",
        "source_image = resize(source_image, (256, 256))[..., :3]\n",
        "driving_video = [resize(frame, (256, 256))[..., :3] for frame in driving_video]\n",
        "\n",
        "generator, kp_detector = load_checkpoints(config_path='image_song/model/vox-256.yaml', \n",
        "                            checkpoint_path='image_song/model/checkpoint.tar')\n",
        "predictions = make_animation(source_image, driving_video, generator, kp_detector, relative=True)"
      ],
      "metadata": {
        "colab": {
          "base_uri": "https://localhost:8080/"
        },
        "id": "f6uiL7-tGTBp",
        "outputId": "746e8447-d00b-4ea0-9649-b89b3b528acc"
      },
      "execution_count": 12,
      "outputs": [
        {
          "output_type": "stream",
          "name": "stderr",
          "text": [
            "100%|██████████| 1155/1155 [00:49<00:00, 23.48it/s]\n"
          ]
        }
      ]
    },
    {
      "cell_type": "code",
      "source": [
        "#保存为半成品（无音轨）\n",
        "imageio.mimsave('image_song/output/tmp.mp4', [img_as_ubyte(frame) for frame in predictions], fps=24)\n",
        "#导入音轨制作成品\n",
        "!which ffmpeg\n",
        "!ffmpeg -i image_song/output/tmp.mp4 -i image_song/data/demo.mp4 -c:v copy -c:a copy image_song/output/output.mp4 -y\n"
      ],
      "metadata": {
        "colab": {
          "base_uri": "https://localhost:8080/"
        },
        "id": "TNHyc2crHHtT",
        "outputId": "c373ccb5-836c-43d8-c54a-234bb2e2d458"
      },
      "execution_count": 13,
      "outputs": [
        {
          "output_type": "stream",
          "name": "stdout",
          "text": [
            "/usr/bin/ffmpeg\n",
            "ffmpeg version 3.4.8-0ubuntu0.2 Copyright (c) 2000-2020 the FFmpeg developers\n",
            "  built with gcc 7 (Ubuntu 7.5.0-3ubuntu1~18.04)\n",
            "  configuration: --prefix=/usr --extra-version=0ubuntu0.2 --toolchain=hardened --libdir=/usr/lib/x86_64-linux-gnu --incdir=/usr/include/x86_64-linux-gnu --enable-gpl --disable-stripping --enable-avresample --enable-avisynth --enable-gnutls --enable-ladspa --enable-libass --enable-libbluray --enable-libbs2b --enable-libcaca --enable-libcdio --enable-libflite --enable-libfontconfig --enable-libfreetype --enable-libfribidi --enable-libgme --enable-libgsm --enable-libmp3lame --enable-libmysofa --enable-libopenjpeg --enable-libopenmpt --enable-libopus --enable-libpulse --enable-librubberband --enable-librsvg --enable-libshine --enable-libsnappy --enable-libsoxr --enable-libspeex --enable-libssh --enable-libtheora --enable-libtwolame --enable-libvorbis --enable-libvpx --enable-libwavpack --enable-libwebp --enable-libx265 --enable-libxml2 --enable-libxvid --enable-libzmq --enable-libzvbi --enable-omx --enable-openal --enable-opengl --enable-sdl2 --enable-libdc1394 --enable-libdrm --enable-libiec61883 --enable-chromaprint --enable-frei0r --enable-libopencv --enable-libx264 --enable-shared\n",
            "  libavutil      55. 78.100 / 55. 78.100\n",
            "  libavcodec     57.107.100 / 57.107.100\n",
            "  libavformat    57. 83.100 / 57. 83.100\n",
            "  libavdevice    57. 10.100 / 57. 10.100\n",
            "  libavfilter     6.107.100 /  6.107.100\n",
            "  libavresample   3.  7.  0 /  3.  7.  0\n",
            "  libswscale      4.  8.100 /  4.  8.100\n",
            "  libswresample   2.  9.100 /  2.  9.100\n",
            "  libpostproc    54.  7.100 / 54.  7.100\n",
            "Input #0, mov,mp4,m4a,3gp,3g2,mj2, from 'image_song/output/tmp.mp4':\n",
            "  Metadata:\n",
            "    major_brand     : isom\n",
            "    minor_version   : 512\n",
            "    compatible_brands: isomiso2avc1mp41\n",
            "    encoder         : Lavf57.83.100\n",
            "  Duration: 00:00:48.13, start: 0.000000, bitrate: 108 kb/s\n",
            "    Stream #0:0(und): Video: h264 (High) (avc1 / 0x31637661), yuv420p, 256x256, 105 kb/s, 24 fps, 24 tbr, 12288 tbn, 48 tbc (default)\n",
            "    Metadata:\n",
            "      handler_name    : VideoHandler\n",
            "Input #1, mov,mp4,m4a,3gp,3g2,mj2, from 'image_song/data/demo.mp4':\n",
            "  Metadata:\n",
            "    major_brand     : isom\n",
            "    minor_version   : 512\n",
            "    compatible_brands: isomiso2avc1mp41\n",
            "    encoder         : Lavf58.20.100\n",
            "    description     : Bilibili VXCode Swarm Transcoder r0.2.61(gap_fixed:False)\n",
            "  Duration: 00:00:48.13, start: 0.000000, bitrate: 423 kb/s\n",
            "    Stream #1:0(und): Video: h264 (High) (avc1 / 0x31637661), yuv420p, 240x240 [SAR 1:1 DAR 1:1], 351 kb/s, 24 fps, 24 tbr, 16k tbn, 48 tbc (default)\n",
            "    Metadata:\n",
            "      handler_name    : VideoHandler\n",
            "    Stream #1:1(und): Audio: aac (LC) (mp4a / 0x6134706D), 48000 Hz, stereo, fltp, 65 kb/s (default)\n",
            "    Metadata:\n",
            "      handler_name    : SoundHandler\n",
            "Output #0, mp4, to 'image_song/output/output.mp4':\n",
            "  Metadata:\n",
            "    major_brand     : isom\n",
            "    minor_version   : 512\n",
            "    compatible_brands: isomiso2avc1mp41\n",
            "    encoder         : Lavf57.83.100\n",
            "    Stream #0:0(und): Video: h264 (High) (avc1 / 0x31637661), yuv420p, 256x256, q=2-31, 105 kb/s, 24 fps, 24 tbr, 12288 tbn, 12288 tbc (default)\n",
            "    Metadata:\n",
            "      handler_name    : VideoHandler\n",
            "    Stream #0:1(und): Audio: aac (LC) (mp4a / 0x6134706D), 48000 Hz, stereo, fltp, 65 kb/s (default)\n",
            "    Metadata:\n",
            "      handler_name    : SoundHandler\n",
            "Stream mapping:\n",
            "  Stream #0:0 -> #0:0 (copy)\n",
            "  Stream #1:1 -> #0:1 (copy)\n",
            "Press [q] to stop, [?] for help\n",
            "frame= 1155 fps=0.0 q=-1.0 Lsize=    1041kB time=00:00:48.08 bitrate= 177.4kbits/s speed=3.46e+03x    \n",
            "video:622kB audio:386kB subtitle:0kB other streams:0kB global headers:0kB muxing overhead: 3.371952%\n"
          ]
        }
      ]
    }
  ]
}