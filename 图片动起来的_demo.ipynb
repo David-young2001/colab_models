{
  "nbformat": 4,
  "nbformat_minor": 0,
  "metadata": {
    "colab": {
      "name": "图片动起来的 demo",
      "provenance": [],
      "collapsed_sections": [],
      "mount_file_id": "1YrYnS_gLHkwKv9chvmFVq7RRRBFuNE7n",
      "authorship_tag": "ABX9TyMjGaZNk0uN+ROPgpQj7au7",
      "include_colab_link": true
    },
    "kernelspec": {
      "name": "python3",
      "display_name": "Python 3"
    },
    "language_info": {
      "name": "python"
    },
    "accelerator": "GPU"
  },
  "cells": [
    {
      "cell_type": "markdown",
      "metadata": {
        "id": "view-in-github",
        "colab_type": "text"
      },
      "source": [
        "<a href=\"https://colab.research.google.com/github/alg-bug-engineer/colab_models/blob/main/%E5%9B%BE%E7%89%87%E5%8A%A8%E8%B5%B7%E6%9D%A5%E7%9A%84_demo.ipynb\" target=\"_parent\"><img src=\"https://colab.research.google.com/assets/colab-badge.svg\" alt=\"Open In Colab\"/></a>"
      ]
    },
    {
      "cell_type": "code",
      "source": [
        "from google.colab import drive\n",
        "drive.mount(\"/content/drive\")  # 挂载云盘到自己的目录下\n",
        "cp drive/MyDrive/image_song/*.py .  # 拷贝到当前路径下\n",
        "cp drive/MyDrive/image_song/ ."
      ],
      "metadata": {
        "id": "92L1HjUcyYpI"
      },
      "execution_count": null,
      "outputs": []
    },
    {
      "cell_type": "code",
      "source": [
        "# 安装必要的东西\n",
        "!pip install imageio-ffmpeg scikit-image torch==1.0.0 torchvision==0.2.1\n",
        "!pip install matplotlib"
      ],
      "metadata": {
        "id": "W2KmqQJj6ogi"
      },
      "execution_count": null,
      "outputs": []
    },
    {
      "cell_type": "code",
      "source": [
        "from main import *\n",
        "from skimage import img_as_ubyte\n",
        "\n",
        "import imageio\n",
        "import numpy as np\n",
        "import matplotlib.pyplot as plt\n",
        "import matplotlib.animation as animation\n",
        "from skimage.transform import resize\n",
        "from IPython.display import HTML\n",
        "import warnings\n",
        "warnings.filterwarnings(\"ignore\")\n",
        "\n",
        "#设置图片名称操作方法可看上方教程\n",
        "source_image = imageio.imread('image_song/data/demo.jpeg')\n",
        "\n",
        "#设置源视频名称操作方法可看上方教程\n",
        "driving_video = imageio.mimread('image_song/data/demo.mp4')\n",
        "\n",
        "source_image = resize(source_image, (256, 256))[..., :3]\n",
        "driving_video = [resize(frame, (256, 256))[..., :3] for frame in driving_video]\n",
        "\n",
        "generator, kp_detector = load_checkpoints(config_path='image_song/model/vox-256.yaml', \n",
        "                            checkpoint_path='image_song/model/checkpoint.tar')\n",
        "predictions = make_animation(source_image, driving_video, generator, kp_detector, relative=True)"
      ],
      "metadata": {
        "colab": {
          "base_uri": "https://localhost:8080/"
        },
        "id": "IH1UFncf3dVi",
        "outputId": "28759e5d-04e5-4414-b74d-93096a8a423b"
      },
      "execution_count": 31,
      "outputs": [
        {
          "output_type": "stream",
          "name": "stderr",
          "text": [
            "100%|██████████| 1155/1155 [00:50<00:00, 22.83it/s]\n"
          ]
        }
      ]
    },
    {
      "cell_type": "code",
      "source": [
        "#保存为半成品（无音轨）\n",
        "imageio.mimsave('image_song/output/tmp.mp4', [img_as_ubyte(frame) for frame in predictions], fps=24)\n",
        "\n",
        "#导入音轨制作成品\n",
        "!which ffmpeg\n",
        "!ffmpeg -i image_song/output/tmp.mp4 -i image_song/data/demo.mp4 -c:v copy -c:a copy image_song/output/output.mp4 -y"
      ],
      "metadata": {
        "id": "o3VCl6jx6uAv"
      },
      "execution_count": null,
      "outputs": []
    },
    {
      "cell_type": "code",
      "source": [
        "!mv main.py drive/MyDrive/image_song/"
      ],
      "metadata": {
        "id": "puC02JQN7kyI"
      },
      "execution_count": 37,
      "outputs": []
    }
  ]
}